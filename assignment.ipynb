{
  "metadata": {
    "language_info": {
      "codemirror_mode": {
        "name": "python",
        "version": 3
      },
      "file_extension": ".py",
      "mimetype": "text/x-python",
      "name": "python",
      "nbconvert_exporter": "python",
      "pygments_lexer": "ipython3",
      "version": "3.8"
    },
    "kernelspec": {
      "name": "python",
      "display_name": "Pyolite",
      "language": "python"
    }
  },
  "nbformat_minor": 4,
  "nbformat": 4,
  "cells": [
    {
      "cell_type": "markdown",
      "source": "<h1> My Jupyter Notebook on Skills Network LTI",
      "metadata": {}
    },
    {
      "cell_type": "markdown",
      "source": "<b> Nesrine Makhlouf </b>\nICT engineer",
      "metadata": {}
    },
    {
      "cell_type": "markdown",
      "source": "<i>  I am interested in data science because I am an ICT engineer and enjoy processing and analyzing data, which can have an awesome effect on decision making.",
      "metadata": {}
    },
    {
      "cell_type": "markdown",
      "source": "<h3> My code in cell 4 calculates the square of 3.",
      "metadata": {}
    },
    {
      "cell_type": "code",
      "source": "x=3\nprint(x**2)\n\n",
      "metadata": {
        "trusted": true
      },
      "execution_count": 7,
      "outputs": [
        {
          "name": "stdout",
          "text": "9\n",
          "output_type": "stream"
        }
      ]
    },
    {
      "cell_type": "markdown",
      "source": "<b> Table : </b>\n\n|C1|C2|C3|C4\n|--|--|--|--\n|yes|no|yes|no\n\n<b> Hyperlink : </b>\n\n<a href=”https://www.google.com/webhp?hl=en&sa=X&ved=0ahUKEwjh54PduM77AhV-XvEDHQGvBHUQPAgI”>\n\n<b> block quote: </b>\n \n<blockquote> Never let the fear of striking out keep you from playing the game. -Babe Ruth </blockquote> \n",
      "metadata": {}
    },
    {
      "cell_type": "code",
      "source": "",
      "metadata": {},
      "execution_count": null,
      "outputs": []
    }
  ]
}